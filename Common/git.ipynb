{
 "cells": [
  {
   "cell_type": "markdown",
   "metadata": {},
   "source": [
    "# git\n",
    "\n",
    "* DVCS (Distributed Version Control System) by Linus\n",
    "* Built to manage Linux kernel source code\n",
    "* Most popular VCS now"
   ]
  },
  {
   "cell_type": "markdown",
   "metadata": {},
   "source": [
    "## Version Control System (VCS)\n",
    "\n",
    "Developers used to exchange documents (source codes) as a whole, and they soon realized that they need more efficient way for it. After tools like rcs, cvs, and svn rose and fell, Distributed VCS (git, hg, ...) started to take over.\n",
    "\n",
    "Most VCS are capable of ...\n",
    "\n",
    "* Track *commits* as a snapshot of codes, or as differences to previous state, along with their metadata (author, timestamp, ...)\n",
    "* Arrange commits into branches, so that changes to one branch does not affect the others\n",
    "* Merge between branches\n",
    "* Detect and resolve conflicts (automatic or manual)\n",
    "* Publish local changes\n",
    "\n",
    "However, most VCS relies on a centralized server to track `commits`, and don't work at all without network. "
   ]
  },
  {
   "cell_type": "markdown",
   "metadata": {},
   "source": [
    "## Distributed VCS\n",
    "\n",
    "Unlike their ancestors, DVCS do not rely on centralized servers. Every repository works on its own, and can talk to the others on equal positions. Take `git` for example, the central repositories (github, gitlab, bitbucket, you name it) are no more than *bare repositories*. The content is exactly the same as your `.git` folder in that project. \n",
    "\n",
    "With DVCS, commits were made locally, and "
   ]
  }
 ],
 "metadata": {
  "kernelspec": {
   "display_name": "Python 3",
   "language": "python",
   "name": "python3"
  },
  "language_info": {
   "codemirror_mode": {
    "name": "ipython",
    "version": 3
   },
   "file_extension": ".py",
   "mimetype": "text/x-python",
   "name": "python",
   "nbconvert_exporter": "python",
   "pygments_lexer": "ipython3",
   "version": "3.4.1"
  }
 },
 "nbformat": 4,
 "nbformat_minor": 0
}
