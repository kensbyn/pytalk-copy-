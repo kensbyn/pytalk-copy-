{
 "cells": [
  {
   "cell_type": "markdown",
   "metadata": {
    "slideshow": {
     "slide_type": "slide"
    }
   },
   "source": [
    "# Python Basics\n",
    "\n",
    "Recap of [Python@Codecademy](https://www.codecademy.com/en/tracks/python) in case you missed it."
   ]
  },
  {
   "cell_type": "markdown",
   "metadata": {
    "slideshow": {
     "slide_type": "slide"
    }
   },
   "source": [
    "# Frequent Asked Questions"
   ]
  },
  {
   "cell_type": "markdown",
   "metadata": {
    "slideshow": {
     "slide_type": "slide"
    }
   },
   "source": [
    "## Why Python\n",
    "\n",
    "* Easy to learn, develop, and extend\n",
    "* Less nonsense characters\n",
    "    * Comma at the ends\n",
    "    * (){}\n",
    "* Indentation-based block syntax\n",
    "* Community support\n",
    "* Works (pretty well) as commandline script, web backend, and data analysis\n",
    "* The best glue language !\n",
    "* High quality documentation (well formed, handy)"
   ]
  },
  {
   "cell_type": "markdown",
   "metadata": {},
   "source": [
    "## Python 2 or 3\n",
    "\n",
    "7th year in the transition. \n",
    "\n",
    "Python 3 provides ...\n",
    "\n",
    "* New built-in Modules\n",
    "* str, byte = unicode, str\n",
    "* New Concept\n",
    "    * Generators instead of lists\n",
    "    * Extend yield with asyncio\n",
    "* Function changes (incompatible)\n",
    "\n",
    "Python 2 and 3 can coexist on the same host."
   ]
  },
  {
   "cell_type": "markdown",
   "metadata": {},
   "source": [
    "## IDE\n",
    "\n",
    "* IDE is nice, as long as you know how to work with Text Editors when they're not available.\n",
    "\n",
    "* IDLE\n",
    "    * Built-in Python GUI on some distributions\n",
    "    * Almost shell + python\n",
    "* IPython\n",
    "    * Written in python, IPython provides an interactive interface that supports Python, Julia, Haskell, Cython, R, Octave, Bash, Perl, Ruby, ... But the team surely focus on Python.\n",
    "    * And much more..."
   ]
  },
  {
   "cell_type": "code",
   "execution_count": 1,
   "metadata": {
    "collapsed": true
   },
   "outputs": [],
   "source": [
    "# Global configs & imports\n",
    "import gzip, csv, os, os.path\n",
    "\n",
    "PATH = {\n",
    "    \"data\": \"../data\"\n",
    "}"
   ]
  },
  {
   "cell_type": "markdown",
   "metadata": {},
   "source": [
    "# Language Syntax"
   ]
  },
  {
   "cell_type": "markdown",
   "metadata": {},
   "source": [
    "## Defining Blocks\n",
    "\n",
    "Unlike C, Python relies on indentation to define program blocks, and it has to be exactly the same from the same block. Mixing tab (\\t) and spaces is one of the most common source to syntax errors."
   ]
  },
  {
   "cell_type": "code",
   "execution_count": 2,
   "metadata": {
    "collapsed": true
   },
   "outputs": [],
   "source": [
    "def hello_world(s=None):\n",
    "    print(s or \"Hello World!\")"
   ]
  },
  {
   "cell_type": "code",
   "execution_count": 3,
   "metadata": {
    "collapsed": false
   },
   "outputs": [
    {
     "name": "stdout",
     "output_type": "stream",
     "text": [
      "Hello World!\n"
     ]
    }
   ],
   "source": [
    "hello_world()"
   ]
  },
  {
   "cell_type": "code",
   "execution_count": 4,
   "metadata": {
    "collapsed": false
   },
   "outputs": [
    {
     "name": "stdout",
     "output_type": "stream",
     "text": [
      "夜露死苦！\n"
     ]
    }
   ],
   "source": [
    "hello_world(\"夜露死苦！\")"
   ]
  },
  {
   "cell_type": "markdown",
   "metadata": {},
   "source": [
    "## Some Naming Conventions\n",
    "\n",
    "* `CamelCase` for class names, and `snake_case`otherwise\n",
    "But you can have your call !\n",
    "* Follow the standard (PEP-8): \n",
    "    * 4 spaces, no tab\n",
    "    * Cases, newlines, ..."
   ]
  },
  {
   "cell_type": "markdown",
   "metadata": {},
   "source": [
    "## Pass\n",
    "\n",
    "`pass` has no "
   ]
  },
  {
   "cell_type": "markdown",
   "metadata": {},
   "source": [
    "# Variables\n",
    "\n",
    "All variables in Python are interpreted as Objects (unlike boxing / unboxing in Java). Builtin types are:\n",
    "\n",
    "* *None*\n",
    "* *bool*\n",
    "* *iterator* and *generator*\n",
    "* Numeric Types\n",
    "    * *int*\n",
    "    * *long* (built-in support for BigInt)\n",
    "    * *float*\n",
    "    * *complex*\n",
    "* Sequence Types\n",
    "    * *str*, *unicode* (for Python2)\n",
    "    * *tuple*\n",
    "    * *list*\n",
    "    * *bytearray*\n",
    "    * *buffer*\n",
    "    * *xrange*\n",
    "* *set* and *frozenset*\n",
    "* *dict*"
   ]
  },
  {
   "cell_type": "code",
   "execution_count": 5,
   "metadata": {
    "collapsed": false
   },
   "outputs": [
    {
     "name": "stdout",
     "output_type": "stream",
     "text": [
      "(<type 'int'>, 2)\n"
     ]
    }
   ],
   "source": [
    "print(type(3), int(3).bit_length())"
   ]
  },
  {
   "cell_type": "code",
   "execution_count": 6,
   "metadata": {
    "collapsed": false
   },
   "outputs": [
    {
     "name": "stdout",
     "output_type": "stream",
     "text": [
      "(True, True)\n"
     ]
    }
   ],
   "source": [
    "print(\n",
    "    type(3) is int, \n",
    "    isinstance(3, int))"
   ]
  },
  {
   "cell_type": "markdown",
   "metadata": {},
   "source": [
    "## str\n",
    "\n",
    "String, ASCII in Python2, can hode unicode string in Python3."
   ]
  },
  {
   "cell_type": "code",
   "execution_count": 7,
   "metadata": {
    "collapsed": true
   },
   "outputs": [],
   "source": [
    "s = \"Hello Bar\"  # single quotes work as well"
   ]
  },
  {
   "cell_type": "code",
   "execution_count": 8,
   "metadata": {
    "collapsed": false
   },
   "outputs": [
    {
     "name": "stdout",
     "output_type": "stream",
     "text": [
      "Foo Bar\n",
      "hello bar\n",
      "HELLO BAR\n",
      "True\n",
      "True\n"
     ]
    }
   ],
   "source": [
    "print(s.replace(\"Hello\", \"Foo\"))\n",
    "print(s.lower())\n",
    "print(s.upper())\n",
    "print(s.startswith(\"H\"))\n",
    "print(s.endswith(\"ar\"))"
   ]
  },
  {
   "cell_type": "code",
   "execution_count": 9,
   "metadata": {
    "collapsed": false
   },
   "outputs": [
    {
     "name": "stdout",
     "output_type": "stream",
     "text": [
      "False\n",
      "True\n",
      "Hello World\n",
      "AbcAbcAbc\n"
     ]
    }
   ],
   "source": [
    "print(\"hello\" in \"Hello world\")\n",
    "print(\"hello\" in \"Hello world\".lower())\n",
    "print(\"Hello\" + \" World\")\n",
    "print(\"Abc\" * 3)"
   ]
  },
  {
   "cell_type": "markdown",
   "metadata": {},
   "source": [
    "Strings can also be defined with 3 single or double quotes. It's easier to have multi-line string this way."
   ]
  },
  {
   "cell_type": "code",
   "execution_count": 10,
   "metadata": {
    "collapsed": false
   },
   "outputs": [
    {
     "name": "stdout",
     "output_type": "stream",
     "text": [
      "Hello World!\n",
      "And Bar\n"
     ]
    }
   ],
   "source": [
    "s = \"\"\"Hello World!\n",
    "And Bar\"\"\"\n",
    "print(s)"
   ]
  },
  {
   "cell_type": "markdown",
   "metadata": {},
   "source": [
    "Since string declaration alone can be a valid statement, it is also used as comment at times. We'll talk about this usecase later."
   ]
  },
  {
   "cell_type": "markdown",
   "metadata": {},
   "source": [
    "## List\n",
    "\n",
    "* list(...) creates a shallow copy from ..., while ... can be any sequence type or generator\n",
    "* Shorthand as []"
   ]
  },
  {
   "cell_type": "code",
   "execution_count": 11,
   "metadata": {
    "collapsed": false
   },
   "outputs": [
    {
     "name": "stdout",
     "output_type": "stream",
     "text": [
      "[0, 1, 2, 3, 4, 5]\n",
      "6\n"
     ]
    }
   ],
   "source": [
    "l = [0,1,2,3,4,5] # A List with 6 elements\n",
    "print(l)\n",
    "print(len(l))"
   ]
  },
  {
   "cell_type": "code",
   "execution_count": 12,
   "metadata": {
    "collapsed": false
   },
   "outputs": [
    {
     "name": "stdout",
     "output_type": "stream",
     "text": [
      "[0, 1, 2, 3, 4, 5]\n",
      "['H', 'e', 'l', 'l', 'o', ' ', 'W', 'o', 'r', 'l', 'd', '!', '\\n', 'A', 'n', 'd', ' ', 'B', 'a', 'r']\n"
     ]
    }
   ],
   "source": [
    "print(list(l)) # Shallow copy a list\n",
    "print(list(s))"
   ]
  },
  {
   "cell_type": "markdown",
   "metadata": {},
   "source": [
    "## Tuple\n",
    "\n",
    "Immutable type, elements are ordered in `tuple` as in `list`.\n",
    "Defined with `tuple()` or `()`."
   ]
  },
  {
   "cell_type": "code",
   "execution_count": 13,
   "metadata": {
    "collapsed": false
   },
   "outputs": [
    {
     "name": "stdout",
     "output_type": "stream",
     "text": [
      "(1, 2, 3, 4, 5)\n",
      "(0, 1, 2, 3, 4, 5)\n",
      "(1, 2, 3)\n"
     ]
    }
   ],
   "source": [
    "print((1,2,3,4,5)) # Shorthand\n",
    "print(tuple(l)) # Converts a list to tuple\n",
    "print(tuple([1,2,3])) # Long syntax"
   ]
  },
  {
   "cell_type": "code",
   "execution_count": 14,
   "metadata": {
    "collapsed": false,
    "scrolled": true
   },
   "outputs": [
    {
     "name": "stdout",
     "output_type": "stream",
     "text": [
      "()\n",
      "(1,)\n"
     ]
    }
   ],
   "source": [
    "print(tuple()) # Empty tuple\n",
    "print((1,)) # Extra comma for 1-element tuple"
   ]
  },
  {
   "cell_type": "markdown",
   "metadata": {},
   "source": [
    "### Variable Assignment\n",
    "\n",
    "Python converts comma-separated variables to tuples (well, at times), and allows assignment this way as long as their length matches. The same technique also works for `list` elements."
   ]
  },
  {
   "cell_type": "code",
   "execution_count": 15,
   "metadata": {
    "collapsed": false
   },
   "outputs": [
    {
     "name": "stdout",
     "output_type": "stream",
     "text": [
      "a=6, b=3\n"
     ]
    }
   ],
   "source": [
    "a = 3\n",
    "b = 6\n",
    "a, b = b, a\n",
    "print(\"a=%d, b=%d\" % (a, b))"
   ]
  },
  {
   "cell_type": "markdown",
   "metadata": {},
   "source": [
    "## Indexing\n",
    "\n",
    "Indexing retrieves an element from `list` or `dict`, or extract a character (str with length = 1) from a `str`. Python uses 0-based indexing, and the index for first element in `list` is 0."
   ]
  },
  {
   "cell_type": "code",
   "execution_count": 16,
   "metadata": {
    "collapsed": false
   },
   "outputs": [
    {
     "name": "stdout",
     "output_type": "stream",
     "text": [
      "0\n",
      "1\n"
     ]
    }
   ],
   "source": [
    "# l = [0,1,2,3,4,5]\n",
    "print(l[0])\n",
    "print(l[1])"
   ]
  },
  {
   "cell_type": "markdown",
   "metadata": {},
   "source": [
    "Indexing also works for negative integers to count from back. When counting from back, it starts with -1 for there's no -0 for integers. Note: there are +0 and -0 in flow point number."
   ]
  },
  {
   "cell_type": "code",
   "execution_count": 17,
   "metadata": {
    "collapsed": false
   },
   "outputs": [
    {
     "name": "stdout",
     "output_type": "stream",
     "text": [
      "5\n"
     ]
    }
   ],
   "source": [
    "print(l[-1])"
   ]
  },
  {
   "cell_type": "markdown",
   "metadata": {},
   "source": [
    "## Slicing\n",
    "\n",
    "Slicing works pretty much like indexing, but it targets spaces between elements, and returns the same variable type."
   ]
  },
  {
   "cell_type": "code",
   "execution_count": 18,
   "metadata": {
    "collapsed": false
   },
   "outputs": [
    {
     "name": "stdout",
     "output_type": "stream",
     "text": [
      "H\n",
      "He\n",
      "e\n"
     ]
    }
   ],
   "source": [
    "# s = \"Hello Bar\"\n",
    "print(s[0]) # H\n",
    "print(s[0:2]) # He\n",
    "print(s[1:2]) # e"
   ]
  },
  {
   "cell_type": "code",
   "execution_count": 19,
   "metadata": {
    "collapsed": false
   },
   "outputs": [
    {
     "name": "stdout",
     "output_type": "stream",
     "text": [
      "He\n",
      "Hello World!\n",
      "And B\n",
      "llo World!\n",
      "And Bar\n"
     ]
    }
   ],
   "source": [
    "# s = \"Hello Bar\"\n",
    "print(s[:2]) # He\n",
    "print(s[:-2]) # Hello B\n",
    "print(s[2:]) # llo Bar"
   ]
  },
  {
   "cell_type": "code",
   "execution_count": 20,
   "metadata": {
    "collapsed": false
   },
   "outputs": [
    {
     "name": "stdout",
     "output_type": "stream",
     "text": [
      "[0, 1, 2, 3, 4, 5]\n",
      "[0, 1, 2]\n",
      "[3, 4, 5]\n"
     ]
    }
   ],
   "source": [
    "# l = [0, 1, 2, 3, 4, 5]\n",
    "print(l[:])\n",
    "print(l[0:3])\n",
    "print(l[3:])"
   ]
  },
  {
   "cell_type": "code",
   "execution_count": 21,
   "metadata": {
    "collapsed": false
   },
   "outputs": [
    {
     "name": "stdout",
     "output_type": "stream",
     "text": [
      "[6, 7, 2, 3, 4, 5]\n"
     ]
    }
   ],
   "source": [
    "l[0:2] = [6, 7]\n",
    "print(l)"
   ]
  },
  {
   "cell_type": "markdown",
   "metadata": {},
   "source": [
    "## Dict\n",
    "\n",
    "`dict` takes a hashable type as key, and can hold any Python object as its value. \n",
    "Elements in `dict` are **unordered**."
   ]
  },
  {
   "cell_type": "code",
   "execution_count": 22,
   "metadata": {
    "collapsed": false
   },
   "outputs": [],
   "source": [
    "d = {\"name\": \"John\", \"email\": \"john@example.com\"}"
   ]
  },
  {
   "cell_type": "code",
   "execution_count": 23,
   "metadata": {
    "collapsed": false
   },
   "outputs": [
    {
     "data": {
      "text/plain": [
       "'John'"
      ]
     },
     "execution_count": 23,
     "metadata": {},
     "output_type": "execute_result"
    }
   ],
   "source": [
    "d['name']"
   ]
  },
  {
   "cell_type": "code",
   "execution_count": 24,
   "metadata": {
    "collapsed": false
   },
   "outputs": [
    {
     "name": "stdout",
     "output_type": "stream",
     "text": [
      "{'name': 'John Doe', 'email': 'john@example.com'}\n"
     ]
    }
   ],
   "source": [
    "d['name'] = \"John Doe\"\n",
    "print(d)"
   ]
  },
  {
   "cell_type": "code",
   "execution_count": 25,
   "metadata": {
    "collapsed": false
   },
   "outputs": [
    {
     "data": {
      "text/plain": [
       "True"
      ]
     },
     "execution_count": 25,
     "metadata": {},
     "output_type": "execute_result"
    }
   ],
   "source": [
    "'name' in d # Search if key `name` exists"
   ]
  },
  {
   "cell_type": "code",
   "execution_count": 26,
   "metadata": {
    "collapsed": false
   },
   "outputs": [
    {
     "name": "stdout",
     "output_type": "stream",
     "text": [
      "<type 'exceptions.KeyError'>\n"
     ]
    }
   ],
   "source": [
    "try:\n",
    "    print(d['no_such_key'])\n",
    "except Exception as e:\n",
    "    print(type(e))"
   ]
  },
  {
   "cell_type": "code",
   "execution_count": 27,
   "metadata": {
    "collapsed": false
   },
   "outputs": [
    {
     "data": {
      "text/plain": [
       "'Not Exist'"
      ]
     },
     "execution_count": 27,
     "metadata": {},
     "output_type": "execute_result"
    }
   ],
   "source": [
    "d.get('no_such_key', 'Not Exist')"
   ]
  },
  {
   "cell_type": "markdown",
   "metadata": {},
   "source": [
    "## Set\n",
    "\n",
    "Takes only hashable types as its members."
   ]
  },
  {
   "cell_type": "code",
   "execution_count": 28,
   "metadata": {
    "collapsed": false
   },
   "outputs": [
    {
     "data": {
      "text/plain": [
       "{1, 2, 3}"
      ]
     },
     "execution_count": 28,
     "metadata": {},
     "output_type": "execute_result"
    }
   ],
   "source": [
    "set([1,2,2,3,3,3])"
   ]
  },
  {
   "cell_type": "code",
   "execution_count": 29,
   "metadata": {
    "collapsed": false
   },
   "outputs": [
    {
     "data": {
      "text/plain": [
       "{1, 2, 3}"
      ]
     },
     "execution_count": 29,
     "metadata": {},
     "output_type": "execute_result"
    }
   ],
   "source": [
    "{1,2,2,3,3,3}"
   ]
  },
  {
   "cell_type": "markdown",
   "metadata": {},
   "source": [
    "## Trailing Comma in Builtin Collections"
   ]
  },
  {
   "cell_type": "markdown",
   "metadata": {},
   "source": [
    "Python allows trailing comma (,) on tuple, list, dict, ... declarations."
   ]
  },
  {
   "cell_type": "code",
   "execution_count": 30,
   "metadata": {
    "collapsed": false
   },
   "outputs": [
    {
     "data": {
      "text/plain": [
       "True"
      ]
     },
     "execution_count": 30,
     "metadata": {},
     "output_type": "execute_result"
    }
   ],
   "source": [
    "[1,2,3] == [1,2,3,]"
   ]
  },
  {
   "cell_type": "code",
   "execution_count": 31,
   "metadata": {
    "collapsed": false
   },
   "outputs": [],
   "source": [
    "users = [\n",
    "    {\n",
    "        \"name\": \"John\",\n",
    "        \"age\": 13,\n",
    "    },\n",
    "    {\n",
    "        \"name\": \"Eric\",\n",
    "        \"age\": 31,\n",
    "    },\n",
    "]"
   ]
  },
  {
   "cell_type": "markdown",
   "metadata": {},
   "source": [
    "## str Formatting\n",
    "\n",
    "Strings can be formatted in 2 different ways:"
   ]
  },
  {
   "cell_type": "code",
   "execution_count": 32,
   "metadata": {
    "collapsed": false
   },
   "outputs": [
    {
     "name": "stdout",
     "output_type": "stream",
     "text": [
      "User `Nobody` spent 2.43 on 6 services\n"
     ]
    }
   ],
   "source": [
    "print(\"User `%s` spent %03.2f on %d services\" %\n",
    "      (\"Nobody\", 2.4321, 6.0))"
   ]
  },
  {
   "cell_type": "code",
   "execution_count": 33,
   "metadata": {
    "collapsed": false
   },
   "outputs": [
    {
     "name": "stdout",
     "output_type": "stream",
     "text": [
      "The second method is more flexible\n"
     ]
    }
   ],
   "source": [
    "print(\"The %(order_literal)s method is %(more_or_less)s flexible\" % {\n",
    "        'order_literal': 'second',\n",
    "        'more_or_less': 'more',\n",
    "        'extra_variable': 'not_used',\n",
    "    })"
   ]
  },
  {
   "cell_type": "markdown",
   "metadata": {},
   "source": [
    "## Variable Scope\n",
    "\n",
    "There are 4 tiers of variable scope, and they were searched in order:\n",
    "\n",
    "* Local\n",
    "* Enclosing (Non-local)\n",
    "* Global (Module)\n",
    "* Builtin"
   ]
  },
  {
   "cell_type": "markdown",
   "metadata": {},
   "source": [
    "### Masking Outer Values\n",
    "Assignments in the inner scope masks outer values in its scope. "
   ]
  },
  {
   "cell_type": "code",
   "execution_count": 34,
   "metadata": {
    "collapsed": false
   },
   "outputs": [
    {
     "name": "stdout",
     "output_type": "stream",
     "text": [
      "before innter: outmost\n",
      "after innter: outmost\n",
      "Eventually: outmost\n"
     ]
    }
   ],
   "source": [
    "value = \"outmost\"\n",
    "\n",
    "def test_outer():\n",
    "    def test_inner():\n",
    "        value = \"inner\"\n",
    "    \n",
    "    print(\"before innter: %s\" % value)\n",
    "    test_inner()\n",
    "    print(\"after innter: %s\" % value)\n",
    "\n",
    "test_outer()\n",
    "print(\"Eventually: %s\" % value)"
   ]
  },
  {
   "cell_type": "markdown",
   "metadata": {},
   "source": [
    "### Changing Outer Variables\n",
    "\n",
    "To change values in outer scopes, use keyword `nonlocal` (Python3 only) / `global` (Python2+) matching its occurance."
   ]
  },
  {
   "cell_type": "code",
   "execution_count": 35,
   "metadata": {
    "collapsed": false
   },
   "outputs": [
    {
     "name": "stdout",
     "output_type": "stream",
     "text": [
      "before innter: outmost\n",
      "after innter: inner\n",
      "Eventually: inner\n"
     ]
    }
   ],
   "source": [
    "value = \"outmost\"\n",
    "\n",
    "def test_outer():\n",
    "    def test_inner():\n",
    "        global value  # makes all the differences\n",
    "        value = \"inner\"\n",
    "        \n",
    "    print(\"before innter: %s\" % value)\n",
    "    test_inner()\n",
    "    print(\"after innter: %s\" % value)\n",
    "\n",
    "test_outer()\n",
    "print(\"Eventually: %s\" % value)"
   ]
  },
  {
   "cell_type": "markdown",
   "metadata": {},
   "source": [
    "Alternatively, you can host the value in a mutable container (`dict`, `list`, ...), and manipulate that container object via its methods."
   ]
  },
  {
   "cell_type": "markdown",
   "metadata": {},
   "source": [
    "## Operators\n",
    "\n",
    "### Assignment\n",
    "\n",
    "* `=`\n",
    "* `+=`, `-=`, `*=`, `/=`, `%=`, `**=`\n",
    "\n",
    "### Equality\n",
    "\n",
    "* `==`\n",
    "* `!=`\n",
    "\n",
    "### Numerical\n",
    "\n",
    "* `+`, `-`, `*`, `%`\n",
    "* `/` (division)\n",
    "    * **In Python2**, `/` means truncate division if both operands are `int`, and true division otherwise. `//` is truncate division, and the return value is `int` if and only if both operands are `int`.\n",
    "    * **In Python3**, `/` always means true division and returns `float`, while `//` truncate division and returns `int`.\n",
    "* `\\**`: Power\n",
    "\n",
    "### Comparison\n",
    "\n",
    "* `>`, `>=`, `<`, `<=`\n",
    "* Can be chained, eg., `3 >= x >= 0`\n",
    "\n",
    "### Binary\n",
    "\n",
    "* `and`: If Left is True, return Right; else return Left\n",
    "* `or`: If Left is True, return Left; else return Right\n",
    "* `not`: lower precedence than `and` and `or`\n",
    "\n",
    "### Misc\n",
    "\n",
    "* `in`: Searches whether value exists in collection (`list`, `set`), substring exists in `str`, or key exists in `dict`.\n",
    "* `is`: Type comparison, commonly `var is None` or `type(var) is None`.\n",
    "* `... if ... else ...`: Mimics the ternary operator ( ... ? ... : ...) in C. "
   ]
  },
  {
   "cell_type": "code",
   "execution_count": 36,
   "metadata": {
    "collapsed": false
   },
   "outputs": [
    {
     "data": {
      "text/plain": [
       "False"
      ]
     },
     "execution_count": 36,
     "metadata": {},
     "output_type": "execute_result"
    }
   ],
   "source": [
    "# Precedence matters\n",
    "not True or True and False"
   ]
  },
  {
   "cell_type": "markdown",
   "metadata": {},
   "source": [
    "# Functions\n",
    "\n",
    "Function is how we compose related operations together, so they can be reused effectively, and it's easier for human to read. **SOURCE CODES ARE FOR HUMAN**. Like variables, Functions are also objects and thus have their own properties and methods."
   ]
  },
  {
   "cell_type": "code",
   "execution_count": 37,
   "metadata": {
    "collapsed": false
   },
   "outputs": [
    {
     "name": "stdout",
     "output_type": "stream",
     "text": [
      "<type 'function'>\n",
      "Inner function called\n",
      "\n",
      "        A nexted functions.\n",
      "        \n"
     ]
    }
   ],
   "source": [
    "def func():\n",
    "    \"\"\"\n",
    "    Function documents, usually for unittests or automatic documentation.\n",
    "    \"\"\"\n",
    "    \n",
    "    def inner():\n",
    "        \"\"\"\n",
    "        A nexted functions.\n",
    "        \"\"\"\n",
    "        print(\"Inner function called\")\n",
    "    \n",
    "    return inner\n",
    "\n",
    "ret_val = func()\n",
    "print(type(ret_val))\n",
    "ret_val()\n",
    "\n",
    "print(ret_val.__doc__)"
   ]
  },
  {
   "cell_type": "markdown",
   "metadata": {},
   "source": [
    "## Arguments\n",
    "\n",
    "When defining a function (with keyword `def`), you can define positional and named arguments. Only named ones can be optional, and they must appear after required ones. Python also supports default values to arguments, and those with default values should appear after the others."
   ]
  },
  {
   "cell_type": "code",
   "execution_count": 38,
   "metadata": {
    "collapsed": true
   },
   "outputs": [],
   "source": [
    "def func(var1, var2, named_var1, named_var2=None):\n",
    "    print(\"Variables: var1=%s, var2=%s, named_var1=%s, named_var2=%s\" % (var1, var2, named_var1, named_var2))"
   ]
  },
  {
   "cell_type": "code",
   "execution_count": 39,
   "metadata": {
    "collapsed": false
   },
   "outputs": [
    {
     "name": "stdout",
     "output_type": "stream",
     "text": [
      "Variables: var1=1, var2=2, named_var1=3, named_var2=None\n"
     ]
    }
   ],
   "source": [
    "func(1,2,named_var1=3)"
   ]
  },
  {
   "cell_type": "code",
   "execution_count": 40,
   "metadata": {
    "collapsed": false
   },
   "outputs": [
    {
     "name": "stdout",
     "output_type": "stream",
     "text": [
      "Variables: var1=1, var2=2, named_var1=3, named_var2=4\n"
     ]
    }
   ],
   "source": [
    "func(1, 2, 3, 4)"
   ]
  },
  {
   "cell_type": "code",
   "execution_count": 41,
   "metadata": {
    "collapsed": false
   },
   "outputs": [
    {
     "name": "stdout",
     "output_type": "stream",
     "text": [
      "Variables: var1=1, var2=2, named_var1=3, named_var2=4\n"
     ]
    }
   ],
   "source": [
    "func(1, 2, named_var2=4, named_var1=3)"
   ]
  },
  {
   "cell_type": "markdown",
   "metadata": {},
   "source": [
    "### Gotcha\n",
    "\n",
    "Use only immutable types on default values. Mutable ones are only initiated once and may surprise you."
   ]
  },
  {
   "cell_type": "code",
   "execution_count": 42,
   "metadata": {
    "collapsed": false
   },
   "outputs": [
    {
     "name": "stdout",
     "output_type": "stream",
     "text": [
      "new_value: 1, list: [1]\n",
      "new_value: 2, list: [1, 2]\n",
      "new_value: 3, list: [3]\n",
      "new_value: 4, list: [1, 2, 4]\n"
     ]
    }
   ],
   "source": [
    "def func(new_value, old_list=[]):\n",
    "    old_list.append(new_value)\n",
    "    print(\"new_value: %s, list: %s\" % (new_value, old_list))\n",
    "\n",
    "func(1)\n",
    "func(2)\n",
    "func(3, [])\n",
    "func(4)"
   ]
  },
  {
   "cell_type": "markdown",
   "metadata": {},
   "source": [
    "As an alternative, have None in the declaration, and replace it with you default value in function body."
   ]
  },
  {
   "cell_type": "code",
   "execution_count": 43,
   "metadata": {
    "collapsed": false
   },
   "outputs": [
    {
     "name": "stdout",
     "output_type": "stream",
     "text": [
      "new_value: 1, list: [1]\n",
      "new_value: 2, list: [2]\n",
      "new_value: 3, list: [3]\n",
      "new_value: 4, list: [4]\n"
     ]
    }
   ],
   "source": [
    "def func(new_value, old_list=None):\n",
    "    old_list = old_list or []\n",
    "    old_list.append(new_value)\n",
    "    print(\"new_value: %s, list: %s\" % (new_value, old_list))\n",
    "\n",
    "func(1)\n",
    "func(2)\n",
    "func(3, [])\n",
    "func(4)"
   ]
  },
  {
   "cell_type": "markdown",
   "metadata": {},
   "source": [
    "## Packing Arguments\n",
    "\n",
    "Python function syntax allows \\* and \\*\\* in front of variable names. As a common practice, we like to define `function(\\*args, \\*\\*kwargs)`. When invoked, `\\*args` will hold positional arguments, and `\\*\\*kwargs` named ones, unless its value mapped to other variable names (to that function)."
   ]
  },
  {
   "cell_type": "code",
   "execution_count": 44,
   "metadata": {
    "collapsed": true
   },
   "outputs": [],
   "source": [
    "def test(*args, **kwargs):\n",
    "    print(\"args: %s, kwargs: %s\" % (args, kwargs))"
   ]
  },
  {
   "cell_type": "code",
   "execution_count": 45,
   "metadata": {
    "collapsed": false
   },
   "outputs": [
    {
     "name": "stdout",
     "output_type": "stream",
     "text": [
      "args: (1, 2, 3), kwargs: {}\n"
     ]
    }
   ],
   "source": [
    "test(1,2,3)"
   ]
  },
  {
   "cell_type": "code",
   "execution_count": 46,
   "metadata": {
    "collapsed": false
   },
   "outputs": [
    {
     "name": "stdout",
     "output_type": "stream",
     "text": [
      "args: (1, 2, 3), kwargs: {'a': 'alpha', 'b': 'beta'}\n"
     ]
    }
   ],
   "source": [
    "test(1,2,3,a=\"alpha\", b=\"beta\")"
   ]
  },
  {
   "cell_type": "code",
   "execution_count": 47,
   "metadata": {
    "collapsed": true
   },
   "outputs": [],
   "source": [
    "def test(number, *args, **kwargs):\n",
    "    print(\"number: %d, \\nargs: %s, \\nkwargs: %s\" % (number, args, kwargs))"
   ]
  },
  {
   "cell_type": "code",
   "execution_count": 48,
   "metadata": {
    "collapsed": false
   },
   "outputs": [
    {
     "name": "stdout",
     "output_type": "stream",
     "text": [
      "number: 3, \n",
      "args: (4, 5), \n",
      "kwargs: {}\n"
     ]
    }
   ],
   "source": [
    "test(3,4,5)"
   ]
  },
  {
   "cell_type": "markdown",
   "metadata": {},
   "source": [
    "## Unacking Arguments\n",
    "\n",
    "Vice versa, we can prepend \\* or \\*\\* to `list` and `dict` repectively, and it works as if we have them as individual positional and named arguments in that function call."
   ]
  },
  {
   "cell_type": "code",
   "execution_count": 49,
   "metadata": {
    "collapsed": true
   },
   "outputs": [],
   "source": [
    "def test(name, subject, score):\n",
    "    print(\"name: %s, subject: %s, score: %.2f\" % (name, subject, score))"
   ]
  },
  {
   "cell_type": "code",
   "execution_count": 50,
   "metadata": {
    "collapsed": false
   },
   "outputs": [
    {
     "name": "stdout",
     "output_type": "stream",
     "text": [
      "name: John, subject: History, score: 0.00\n"
     ]
    }
   ],
   "source": [
    "test(\"John\", \"History\", 0)"
   ]
  },
  {
   "cell_type": "code",
   "execution_count": 51,
   "metadata": {
    "collapsed": false
   },
   "outputs": [
    {
     "name": "stdout",
     "output_type": "stream",
     "text": [
      "name: Cliff, subject: Math, score: 100.10\n"
     ]
    }
   ],
   "source": [
    "test(*[\"Cliff\", \"Math\", 100.1])"
   ]
  },
  {
   "cell_type": "code",
   "execution_count": 52,
   "metadata": {
    "collapsed": false
   },
   "outputs": [
    {
     "name": "stdout",
     "output_type": "stream",
     "text": [
      "name: Paris, subject: IQ, score: 0.00\n"
     ]
    }
   ],
   "source": [
    "test(**{'name': \"Paris\", 'subject': \"IQ\", 'score': 0})"
   ]
  },
  {
   "cell_type": "code",
   "execution_count": 53,
   "metadata": {
    "collapsed": false
   },
   "outputs": [
    {
     "name": "stdout",
     "output_type": "stream",
     "text": [
      "name: Confucius, subject: Confucism, score: 47.00\n"
     ]
    }
   ],
   "source": [
    "test(*[\"Confucius\", \"Confucism\"], **{\"score\": 47.0})"
   ]
  },
  {
   "cell_type": "markdown",
   "metadata": {},
   "source": [
    "## Some Builtin Functions\n",
    "\n",
    "* `len`, `type`\n",
    "* `print`\n",
    "    * function in Python3, keyword in Python2\n",
    "* `max`, `min`, `abs`\n",
    "* `sum`\n",
    "* `all`, `any`\n",
    "* `map`, `reduce`\n",
    "* `filter`\n",
    "* `ascii`, `ord`\n",
    "* `isinstance`, `issubclass`\n",
    "* `input` (`raw_input` in python2)\n",
    "* `zip`\n",
    "\n",
    "type `help(func)` in IPython to access help page."
   ]
  },
  {
   "cell_type": "markdown",
   "metadata": {},
   "source": [
    "# Flow Control"
   ]
  },
  {
   "cell_type": "markdown",
   "metadata": {},
   "source": [
    "## If ... elif .... else"
   ]
  },
  {
   "cell_type": "code",
   "execution_count": 54,
   "metadata": {
    "collapsed": false
   },
   "outputs": [
    {
     "name": "stdout",
     "output_type": "stream",
     "text": [
      "3 < 5\n"
     ]
    }
   ],
   "source": [
    "if 3 > 5:\n",
    "    print(\"3 > 5\")\n",
    "elif 3 < 5:\n",
    "    print(\"3 < 5\")\n",
    "else:\n",
    "    print(\"3 == 5\")"
   ]
  },
  {
   "cell_type": "code",
   "execution_count": 55,
   "metadata": {
    "collapsed": false
   },
   "outputs": [
    {
     "name": "stdout",
     "output_type": "stream",
     "text": [
      "5 > 3\n"
     ]
    }
   ],
   "source": [
    "if 5 > 3:\n",
    "    print(\"5 > 3\")\n",
    "elif 4 > 3:\n",
    "    print(\"4 > 3\")\n",
    "else:\n",
    "    print(\"Nah\")"
   ]
  },
  {
   "cell_type": "markdown",
   "metadata": {},
   "source": [
    "## for ... in ..."
   ]
  },
  {
   "cell_type": "code",
   "execution_count": 56,
   "metadata": {
    "collapsed": false
   },
   "outputs": [
    {
     "name": "stdout",
     "output_type": "stream",
     "text": [
      "1\n",
      "2\n",
      "3\n"
     ]
    }
   ],
   "source": [
    "for i in [1,2,3]:\n",
    "    print(i)"
   ]
  },
  {
   "cell_type": "code",
   "execution_count": 57,
   "metadata": {
    "collapsed": false
   },
   "outputs": [
    {
     "name": "stdout",
     "output_type": "stream",
     "text": [
      "0\n",
      "1\n",
      "2\n"
     ]
    }
   ],
   "source": [
    "for i in range(3):\n",
    "    print(i)"
   ]
  },
  {
   "cell_type": "code",
   "execution_count": 58,
   "metadata": {
    "collapsed": false
   },
   "outputs": [
    {
     "name": "stdout",
     "output_type": "stream",
     "text": [
      "name\n",
      "email\n"
     ]
    }
   ],
   "source": [
    "d = {\"name\": \"John\", \"email\": \"john@example.com\"}\n",
    "for key in d:\n",
    "    print(key)"
   ]
  },
  {
   "cell_type": "code",
   "execution_count": 59,
   "metadata": {
    "collapsed": false
   },
   "outputs": [
    {
     "name": "stdout",
     "output_type": "stream",
     "text": [
      "name => John\n",
      "email => john@example.com\n"
     ]
    }
   ],
   "source": [
    "for key, value in d.items():\n",
    "    print(\"%s => %s\" % (key, value))"
   ]
  },
  {
   "cell_type": "code",
   "execution_count": 60,
   "metadata": {
    "collapsed": false
   },
   "outputs": [
    {
     "name": "stdout",
     "output_type": "stream",
     "text": [
      "Finished iteration\n"
     ]
    }
   ],
   "source": [
    "for i in range(5):\n",
    "    pass\n",
    "else:\n",
    "    print(\"Finished iteration\")"
   ]
  },
  {
   "cell_type": "code",
   "execution_count": 61,
   "metadata": {
    "collapsed": false
   },
   "outputs": [
    {
     "name": "stdout",
     "output_type": "stream",
     "text": [
      "2\n",
      "3\n"
     ]
    }
   ],
   "source": [
    "for i in range(5):\n",
    "    if i < 2:\n",
    "        continue\n",
    "    elif i > 3:\n",
    "        break\n",
    "    print(i)\n",
    "else:\n",
    "    print(\"Finished iteration\")"
   ]
  },
  {
   "cell_type": "markdown",
   "metadata": {},
   "source": [
    "## while ..."
   ]
  },
  {
   "cell_type": "code",
   "execution_count": 62,
   "metadata": {
    "collapsed": false
   },
   "outputs": [
    {
     "name": "stdout",
     "output_type": "stream",
     "text": [
      "0\n",
      "1\n",
      "2\n",
      "Finished iteration\n"
     ]
    }
   ],
   "source": [
    "i = 0\n",
    "while i < 3:\n",
    "    print(i)\n",
    "    i += 1\n",
    "else:\n",
    "    print(\"Finished iteration\")"
   ]
  },
  {
   "cell_type": "code",
   "execution_count": 63,
   "metadata": {
    "collapsed": false
   },
   "outputs": [
    {
     "name": "stdout",
     "output_type": "stream",
     "text": [
      "0\n",
      "1\n",
      "2\n",
      "3\n"
     ]
    }
   ],
   "source": [
    "i = 0\n",
    "while i < 10:\n",
    "    print(i)\n",
    "    i += 1\n",
    "    if i > 3:\n",
    "        break\n",
    "else:\n",
    "    print(\"Finished iteration\")"
   ]
  },
  {
   "cell_type": "markdown",
   "metadata": {},
   "source": [
    "# List Comprehensions\n",
    "\n",
    "* Shorthand representations of `list`, `dict` and `set`"
   ]
  },
  {
   "cell_type": "code",
   "execution_count": 64,
   "metadata": {
    "collapsed": false
   },
   "outputs": [
    {
     "data": {
      "text/plain": [
       "[(0, 3), (0, 4), (1, 3), (1, 4), (2, 3), (2, 4)]"
      ]
     },
     "execution_count": 64,
     "metadata": {},
     "output_type": "execute_result"
    }
   ],
   "source": [
    "[(i, j) for i in range(3) for j in range(3,5)]"
   ]
  },
  {
   "cell_type": "code",
   "execution_count": 65,
   "metadata": {
    "collapsed": false
   },
   "outputs": [
    {
     "data": {
      "text/plain": [
       "[0, 2, 4, 6, 8]"
      ]
     },
     "execution_count": 65,
     "metadata": {},
     "output_type": "execute_result"
    }
   ],
   "source": [
    "[i for i in range(10) if i % 2 == 0]"
   ]
  },
  {
   "cell_type": "code",
   "execution_count": 66,
   "metadata": {
    "collapsed": false
   },
   "outputs": [
    {
     "name": "stdout",
     "output_type": "stream",
     "text": [
      "{'John': 13, 'Eric': 31}\n"
     ]
    }
   ],
   "source": [
    "users = [\n",
    "    {\n",
    "        \"name\": \"John\",\n",
    "        \"age\": 13,\n",
    "    },\n",
    "    {\n",
    "        \"name\": \"Eric\",\n",
    "        \"age\": 31,\n",
    "    },\n",
    "]\n",
    "\n",
    "print({u['name']: u['age'] for u in users})\n"
   ]
  },
  {
   "cell_type": "markdown",
   "metadata": {},
   "source": [
    "## Gotcha\n",
    "\n",
    "Nested list prehensions can be slow."
   ]
  },
  {
   "cell_type": "code",
   "execution_count": 78,
   "metadata": {
    "collapsed": false
   },
   "outputs": [
    {
     "name": "stdout",
     "output_type": "stream",
     "text": [
      "C:\\Users\\kenneths\\python\\pytalk\\data\\large-one-column.csv.gz\n"
     ]
    },
    {
     "ename": "ValueError",
     "evalue": "Invalid mode ('rtb')",
     "output_type": "error",
     "traceback": [
      "\u001b[1;31m---------------------------------------------------------------------------\u001b[0m",
      "\u001b[1;31mValueError\u001b[0m                                Traceback (most recent call last)",
      "\u001b[1;32m<ipython-input-78-a1c79df50693>\u001b[0m in \u001b[0;36m<module>\u001b[1;34m()\u001b[0m\n\u001b[0;32m      3\u001b[0m \u001b[0mfilename\u001b[0m \u001b[1;33m=\u001b[0m \u001b[1;33m(\u001b[0m\u001b[1;34m\"C:\\Users\\kenneths\\python\\pytalk\\data\\large-one-column.csv.gz\"\u001b[0m\u001b[1;33m)\u001b[0m\u001b[1;33m\u001b[0m\u001b[0m\n\u001b[0;32m      4\u001b[0m \u001b[1;32mprint\u001b[0m \u001b[0mfilename\u001b[0m\u001b[1;33m\u001b[0m\u001b[0m\n\u001b[1;32m----> 5\u001b[1;33m \u001b[1;32mwith\u001b[0m \u001b[0mgzip\u001b[0m\u001b[1;33m.\u001b[0m\u001b[0mopen\u001b[0m\u001b[1;33m(\u001b[0m\u001b[0mfilename\u001b[0m\u001b[1;33m,\u001b[0m \u001b[1;34m\"rt\"\u001b[0m\u001b[1;33m)\u001b[0m \u001b[1;32mas\u001b[0m \u001b[0mfp\u001b[0m\u001b[1;33m:\u001b[0m\u001b[1;33m\u001b[0m\u001b[0m\n\u001b[0m\u001b[0;32m      6\u001b[0m     \u001b[0mhaystack\u001b[0m \u001b[1;33m=\u001b[0m \u001b[0mlist\u001b[0m\u001b[1;33m(\u001b[0m\u001b[0mcsv\u001b[0m\u001b[1;33m.\u001b[0m\u001b[0mDictReader\u001b[0m\u001b[1;33m(\u001b[0m\u001b[0mfp\u001b[0m\u001b[1;33m)\u001b[0m\u001b[1;33m)\u001b[0m\u001b[1;33m\u001b[0m\u001b[0m\n",
      "\u001b[1;32mc:\\Users\\kenneths\\AppData\\Local\\Continuum\\Anaconda\\lib\\gzip.pyc\u001b[0m in \u001b[0;36mopen\u001b[1;34m(filename, mode, compresslevel)\u001b[0m\n\u001b[0;32m     32\u001b[0m \u001b[1;33m\u001b[0m\u001b[0m\n\u001b[0;32m     33\u001b[0m     \"\"\"\n\u001b[1;32m---> 34\u001b[1;33m     \u001b[1;32mreturn\u001b[0m \u001b[0mGzipFile\u001b[0m\u001b[1;33m(\u001b[0m\u001b[0mfilename\u001b[0m\u001b[1;33m,\u001b[0m \u001b[0mmode\u001b[0m\u001b[1;33m,\u001b[0m \u001b[0mcompresslevel\u001b[0m\u001b[1;33m)\u001b[0m\u001b[1;33m\u001b[0m\u001b[0m\n\u001b[0m\u001b[0;32m     35\u001b[0m \u001b[1;33m\u001b[0m\u001b[0m\n\u001b[0;32m     36\u001b[0m \u001b[1;32mclass\u001b[0m \u001b[0mGzipFile\u001b[0m\u001b[1;33m(\u001b[0m\u001b[0mio\u001b[0m\u001b[1;33m.\u001b[0m\u001b[0mBufferedIOBase\u001b[0m\u001b[1;33m)\u001b[0m\u001b[1;33m:\u001b[0m\u001b[1;33m\u001b[0m\u001b[0m\n",
      "\u001b[1;32mc:\\Users\\kenneths\\AppData\\Local\\Continuum\\Anaconda\\lib\\gzip.pyc\u001b[0m in \u001b[0;36m__init__\u001b[1;34m(self, filename, mode, compresslevel, fileobj, mtime)\u001b[0m\n\u001b[0;32m     92\u001b[0m             \u001b[0mmode\u001b[0m \u001b[1;33m+=\u001b[0m \u001b[1;34m'b'\u001b[0m\u001b[1;33m\u001b[0m\u001b[0m\n\u001b[0;32m     93\u001b[0m         \u001b[1;32mif\u001b[0m \u001b[0mfileobj\u001b[0m \u001b[1;32mis\u001b[0m \u001b[0mNone\u001b[0m\u001b[1;33m:\u001b[0m\u001b[1;33m\u001b[0m\u001b[0m\n\u001b[1;32m---> 94\u001b[1;33m             \u001b[0mfileobj\u001b[0m \u001b[1;33m=\u001b[0m \u001b[0mself\u001b[0m\u001b[1;33m.\u001b[0m\u001b[0mmyfileobj\u001b[0m \u001b[1;33m=\u001b[0m \u001b[0m__builtin__\u001b[0m\u001b[1;33m.\u001b[0m\u001b[0mopen\u001b[0m\u001b[1;33m(\u001b[0m\u001b[0mfilename\u001b[0m\u001b[1;33m,\u001b[0m \u001b[0mmode\u001b[0m \u001b[1;32mor\u001b[0m \u001b[1;34m'rb'\u001b[0m\u001b[1;33m)\u001b[0m\u001b[1;33m\u001b[0m\u001b[0m\n\u001b[0m\u001b[0;32m     95\u001b[0m         \u001b[1;32mif\u001b[0m \u001b[0mfilename\u001b[0m \u001b[1;32mis\u001b[0m \u001b[0mNone\u001b[0m\u001b[1;33m:\u001b[0m\u001b[1;33m\u001b[0m\u001b[0m\n\u001b[0;32m     96\u001b[0m             \u001b[1;31m# Issue #13781: os.fdopen() creates a fileobj with a bogus name\u001b[0m\u001b[1;33m\u001b[0m\u001b[1;33m\u001b[0m\u001b[0m\n",
      "\u001b[1;31mValueError\u001b[0m: Invalid mode ('rtb')"
     ]
    }
   ],
   "source": [
    "# Load sample data with 1M lines (gzipped)\n",
    "\n",
    "filename = os.path.join(PATH['data'], \"large-one-column.csv.gz\")\n",
    "with gzip.open(filename, \"rt\") as fp:\n",
    "    haystack = list(csv.DictReader(fp))"
   ]
  },
  {
   "cell_type": "code",
   "execution_count": 69,
   "metadata": {
    "collapsed": false
   },
   "outputs": [
    {
     "ename": "NameError",
     "evalue": "global name 'haystack' is not defined",
     "output_type": "error",
     "traceback": [
      "\u001b[1;31m---------------------------------------------------------------------------\u001b[0m",
      "\u001b[1;31mNameError\u001b[0m                                 Traceback (most recent call last)",
      "\u001b[1;32m<ipython-input-69-b2fd8c6d25fa>\u001b[0m in \u001b[0;36m<module>\u001b[1;34m()\u001b[0m\n\u001b[0;32m      9\u001b[0m     }\n\u001b[0;32m     10\u001b[0m \u001b[1;33m\u001b[0m\u001b[0m\n\u001b[1;32m---> 11\u001b[1;33m \u001b[0mget_ipython\u001b[0m\u001b[1;33m(\u001b[0m\u001b[1;33m)\u001b[0m\u001b[1;33m.\u001b[0m\u001b[0mmagic\u001b[0m\u001b[1;33m(\u001b[0m\u001b[1;34mu'timeit ren =  nested_iter(haystack)'\u001b[0m\u001b[1;33m)\u001b[0m\u001b[1;33m\u001b[0m\u001b[0m\n\u001b[0m\u001b[0;32m     12\u001b[0m \u001b[1;32mprint\u001b[0m \u001b[0mren\u001b[0m\u001b[1;33m\u001b[0m\u001b[0m\n",
      "\u001b[1;32mc:\\Users\\kenneths\\AppData\\Local\\Continuum\\Anaconda\\lib\\site-packages\\IPython\\core\\interactiveshell.pyc\u001b[0m in \u001b[0;36mmagic\u001b[1;34m(self, arg_s)\u001b[0m\n\u001b[0;32m   2305\u001b[0m         \u001b[0mmagic_name\u001b[0m\u001b[1;33m,\u001b[0m \u001b[0m_\u001b[0m\u001b[1;33m,\u001b[0m \u001b[0mmagic_arg_s\u001b[0m \u001b[1;33m=\u001b[0m \u001b[0marg_s\u001b[0m\u001b[1;33m.\u001b[0m\u001b[0mpartition\u001b[0m\u001b[1;33m(\u001b[0m\u001b[1;34m' '\u001b[0m\u001b[1;33m)\u001b[0m\u001b[1;33m\u001b[0m\u001b[0m\n\u001b[0;32m   2306\u001b[0m         \u001b[0mmagic_name\u001b[0m \u001b[1;33m=\u001b[0m \u001b[0mmagic_name\u001b[0m\u001b[1;33m.\u001b[0m\u001b[0mlstrip\u001b[0m\u001b[1;33m(\u001b[0m\u001b[0mprefilter\u001b[0m\u001b[1;33m.\u001b[0m\u001b[0mESC_MAGIC\u001b[0m\u001b[1;33m)\u001b[0m\u001b[1;33m\u001b[0m\u001b[0m\n\u001b[1;32m-> 2307\u001b[1;33m         \u001b[1;32mreturn\u001b[0m \u001b[0mself\u001b[0m\u001b[1;33m.\u001b[0m\u001b[0mrun_line_magic\u001b[0m\u001b[1;33m(\u001b[0m\u001b[0mmagic_name\u001b[0m\u001b[1;33m,\u001b[0m \u001b[0mmagic_arg_s\u001b[0m\u001b[1;33m)\u001b[0m\u001b[1;33m\u001b[0m\u001b[0m\n\u001b[0m\u001b[0;32m   2308\u001b[0m \u001b[1;33m\u001b[0m\u001b[0m\n\u001b[0;32m   2309\u001b[0m     \u001b[1;31m#-------------------------------------------------------------------------\u001b[0m\u001b[1;33m\u001b[0m\u001b[1;33m\u001b[0m\u001b[0m\n",
      "\u001b[1;32mc:\\Users\\kenneths\\AppData\\Local\\Continuum\\Anaconda\\lib\\site-packages\\IPython\\core\\interactiveshell.pyc\u001b[0m in \u001b[0;36mrun_line_magic\u001b[1;34m(self, magic_name, line)\u001b[0m\n\u001b[0;32m   2226\u001b[0m                 \u001b[0mkwargs\u001b[0m\u001b[1;33m[\u001b[0m\u001b[1;34m'local_ns'\u001b[0m\u001b[1;33m]\u001b[0m \u001b[1;33m=\u001b[0m \u001b[0msys\u001b[0m\u001b[1;33m.\u001b[0m\u001b[0m_getframe\u001b[0m\u001b[1;33m(\u001b[0m\u001b[0mstack_depth\u001b[0m\u001b[1;33m)\u001b[0m\u001b[1;33m.\u001b[0m\u001b[0mf_locals\u001b[0m\u001b[1;33m\u001b[0m\u001b[0m\n\u001b[0;32m   2227\u001b[0m             \u001b[1;32mwith\u001b[0m \u001b[0mself\u001b[0m\u001b[1;33m.\u001b[0m\u001b[0mbuiltin_trap\u001b[0m\u001b[1;33m:\u001b[0m\u001b[1;33m\u001b[0m\u001b[0m\n\u001b[1;32m-> 2228\u001b[1;33m                 \u001b[0mresult\u001b[0m \u001b[1;33m=\u001b[0m \u001b[0mfn\u001b[0m\u001b[1;33m(\u001b[0m\u001b[1;33m*\u001b[0m\u001b[0margs\u001b[0m\u001b[1;33m,\u001b[0m\u001b[1;33m**\u001b[0m\u001b[0mkwargs\u001b[0m\u001b[1;33m)\u001b[0m\u001b[1;33m\u001b[0m\u001b[0m\n\u001b[0m\u001b[0;32m   2229\u001b[0m             \u001b[1;32mreturn\u001b[0m \u001b[0mresult\u001b[0m\u001b[1;33m\u001b[0m\u001b[0m\n\u001b[0;32m   2230\u001b[0m \u001b[1;33m\u001b[0m\u001b[0m\n",
      "\u001b[1;32mc:\\Users\\kenneths\\AppData\\Local\\Continuum\\Anaconda\\lib\\site-packages\\IPython\\core\\magics\\execution.pyc\u001b[0m in \u001b[0;36mtimeit\u001b[1;34m(self, line, cell)\u001b[0m\n",
      "\u001b[1;32mc:\\Users\\kenneths\\AppData\\Local\\Continuum\\Anaconda\\lib\\site-packages\\IPython\\core\\magic.pyc\u001b[0m in \u001b[0;36m<lambda>\u001b[1;34m(f, *a, **k)\u001b[0m\n\u001b[0;32m    191\u001b[0m     \u001b[1;31m# but it's overkill for just that one bit of state.\u001b[0m\u001b[1;33m\u001b[0m\u001b[1;33m\u001b[0m\u001b[0m\n\u001b[0;32m    192\u001b[0m     \u001b[1;32mdef\u001b[0m \u001b[0mmagic_deco\u001b[0m\u001b[1;33m(\u001b[0m\u001b[0marg\u001b[0m\u001b[1;33m)\u001b[0m\u001b[1;33m:\u001b[0m\u001b[1;33m\u001b[0m\u001b[0m\n\u001b[1;32m--> 193\u001b[1;33m         \u001b[0mcall\u001b[0m \u001b[1;33m=\u001b[0m \u001b[1;32mlambda\u001b[0m \u001b[0mf\u001b[0m\u001b[1;33m,\u001b[0m \u001b[1;33m*\u001b[0m\u001b[0ma\u001b[0m\u001b[1;33m,\u001b[0m \u001b[1;33m**\u001b[0m\u001b[0mk\u001b[0m\u001b[1;33m:\u001b[0m \u001b[0mf\u001b[0m\u001b[1;33m(\u001b[0m\u001b[1;33m*\u001b[0m\u001b[0ma\u001b[0m\u001b[1;33m,\u001b[0m \u001b[1;33m**\u001b[0m\u001b[0mk\u001b[0m\u001b[1;33m)\u001b[0m\u001b[1;33m\u001b[0m\u001b[0m\n\u001b[0m\u001b[0;32m    194\u001b[0m \u001b[1;33m\u001b[0m\u001b[0m\n\u001b[0;32m    195\u001b[0m         \u001b[1;32mif\u001b[0m \u001b[0mcallable\u001b[0m\u001b[1;33m(\u001b[0m\u001b[0marg\u001b[0m\u001b[1;33m)\u001b[0m\u001b[1;33m:\u001b[0m\u001b[1;33m\u001b[0m\u001b[0m\n",
      "\u001b[1;32mc:\\Users\\kenneths\\AppData\\Local\\Continuum\\Anaconda\\lib\\site-packages\\IPython\\core\\magics\\execution.pyc\u001b[0m in \u001b[0;36mtimeit\u001b[1;34m(self, line, cell)\u001b[0m\n\u001b[0;32m   1034\u001b[0m             \u001b[0mnumber\u001b[0m \u001b[1;33m=\u001b[0m \u001b[1;36m1\u001b[0m\u001b[1;33m\u001b[0m\u001b[0m\n\u001b[0;32m   1035\u001b[0m             \u001b[1;32mfor\u001b[0m \u001b[0m_\u001b[0m \u001b[1;32min\u001b[0m \u001b[0mrange\u001b[0m\u001b[1;33m(\u001b[0m\u001b[1;36m1\u001b[0m\u001b[1;33m,\u001b[0m \u001b[1;36m10\u001b[0m\u001b[1;33m)\u001b[0m\u001b[1;33m:\u001b[0m\u001b[1;33m\u001b[0m\u001b[0m\n\u001b[1;32m-> 1036\u001b[1;33m                 \u001b[0mtime_number\u001b[0m \u001b[1;33m=\u001b[0m \u001b[0mtimer\u001b[0m\u001b[1;33m.\u001b[0m\u001b[0mtimeit\u001b[0m\u001b[1;33m(\u001b[0m\u001b[0mnumber\u001b[0m\u001b[1;33m)\u001b[0m\u001b[1;33m\u001b[0m\u001b[0m\n\u001b[0m\u001b[0;32m   1037\u001b[0m                 \u001b[0mworst_tuning\u001b[0m \u001b[1;33m=\u001b[0m \u001b[0mmax\u001b[0m\u001b[1;33m(\u001b[0m\u001b[0mworst_tuning\u001b[0m\u001b[1;33m,\u001b[0m \u001b[0mtime_number\u001b[0m \u001b[1;33m/\u001b[0m \u001b[0mnumber\u001b[0m\u001b[1;33m)\u001b[0m\u001b[1;33m\u001b[0m\u001b[0m\n\u001b[0;32m   1038\u001b[0m                 \u001b[1;32mif\u001b[0m \u001b[0mtime_number\u001b[0m \u001b[1;33m>=\u001b[0m \u001b[1;36m0.2\u001b[0m\u001b[1;33m:\u001b[0m\u001b[1;33m\u001b[0m\u001b[0m\n",
      "\u001b[1;32mc:\\Users\\kenneths\\AppData\\Local\\Continuum\\Anaconda\\lib\\site-packages\\IPython\\core\\magics\\execution.pyc\u001b[0m in \u001b[0;36mtimeit\u001b[1;34m(self, number)\u001b[0m\n\u001b[0;32m    130\u001b[0m         \u001b[0mgc\u001b[0m\u001b[1;33m.\u001b[0m\u001b[0mdisable\u001b[0m\u001b[1;33m(\u001b[0m\u001b[1;33m)\u001b[0m\u001b[1;33m\u001b[0m\u001b[0m\n\u001b[0;32m    131\u001b[0m         \u001b[1;32mtry\u001b[0m\u001b[1;33m:\u001b[0m\u001b[1;33m\u001b[0m\u001b[0m\n\u001b[1;32m--> 132\u001b[1;33m             \u001b[0mtiming\u001b[0m \u001b[1;33m=\u001b[0m \u001b[0mself\u001b[0m\u001b[1;33m.\u001b[0m\u001b[0minner\u001b[0m\u001b[1;33m(\u001b[0m\u001b[0mit\u001b[0m\u001b[1;33m,\u001b[0m \u001b[0mself\u001b[0m\u001b[1;33m.\u001b[0m\u001b[0mtimer\u001b[0m\u001b[1;33m)\u001b[0m\u001b[1;33m\u001b[0m\u001b[0m\n\u001b[0m\u001b[0;32m    133\u001b[0m         \u001b[1;32mfinally\u001b[0m\u001b[1;33m:\u001b[0m\u001b[1;33m\u001b[0m\u001b[0m\n\u001b[0;32m    134\u001b[0m             \u001b[1;32mif\u001b[0m \u001b[0mgcold\u001b[0m\u001b[1;33m:\u001b[0m\u001b[1;33m\u001b[0m\u001b[0m\n",
      "\u001b[1;32m<magic-timeit>\u001b[0m in \u001b[0;36minner\u001b[1;34m(_it, _timer)\u001b[0m\n",
      "\u001b[1;31mNameError\u001b[0m: global name 'haystack' is not defined"
     ]
    }
   ],
   "source": [
    "def nested_iter(haystack):\n",
    "    \"\"\"\n",
    "    Iterates over haystack for len({item['title']}) +1 times\n",
    "    \"\"\"\n",
    "    return {\n",
    "        title: [item for item in haystack if item['title'] == title] \n",
    "        for title in \n",
    "            {item['title'] for item in haystack}\n",
    "    }\n",
    "\n",
    "%timeit nested_iter(haystack)"
   ]
  },
  {
   "cell_type": "code",
   "execution_count": null,
   "metadata": {
    "collapsed": false
   },
   "outputs": [],
   "source": [
    "def direct_iter(haystack):\n",
    "    output = {}\n",
    "    \n",
    "    for item in haystack:\n",
    "        output.setdefault(item['title'], []).append(item)\n",
    "    \n",
    "    return output\n",
    "\n",
    "%timeit direct_iter(haystack)"
   ]
  },
  {
   "cell_type": "markdown",
   "metadata": {},
   "source": [
    "# File Operation"
   ]
  },
  {
   "cell_type": "markdown",
   "metadata": {},
   "source": [
    "## `open`"
   ]
  },
  {
   "cell_type": "raw",
   "metadata": {},
   "source": [
    "fp = open(\"filename\")\n",
    "next_line = fp.readline()\n",
    "\n",
    "for line in fp:\n",
    "    pass # Rest of the lines\n",
    "    \n",
    "fp.close() # Good habit"
   ]
  },
  {
   "cell_type": "raw",
   "metadata": {},
   "source": [
    "with open(\"filename\") as fp:\n",
    "    pass # process the file\n",
    "    # closed automatically"
   ]
  },
  {
   "cell_type": "raw",
   "metadata": {},
   "source": [
    "with open(\"filename\", \"w\") as fp:\n",
    "    fp.write(\"First Line\\n\")\n",
    "    fp.writelines(\"\\n\".join([\"1\", \"2\", \"3\"]))"
   ]
  },
  {
   "cell_type": "markdown",
   "metadata": {},
   "source": [
    "# Class and Objects\n",
    "\n",
    "Python is an OO language, that is, everything in Python is a Object. Variables, modules, and functions are all objects. Every object inherits from `object`. \n",
    "\n",
    "There is no scope as public, protected, or private in Python Classes. \n",
    "\n",
    "Methods are *bound* functions, and Python automatically appends proper references (object or class) as the first positional parameter to them for functions defined as instance or class method."
   ]
  },
  {
   "cell_type": "code",
   "execution_count": 79,
   "metadata": {
    "collapsed": false
   },
   "outputs": [
    {
     "name": "stdout",
     "output_type": "stream",
     "text": [
      "<__main__.SampleObject object at 0x0000000004108CF8>\n",
      "<class '__main__.SampleObject'>\n"
     ]
    }
   ],
   "source": [
    "class SampleObject(object):\n",
    "    \"\"\"\n",
    "    Inherits from `object`\n",
    "    \"\"\"\n",
    "    \n",
    "    # Holds static (class) attributes\n",
    "    \n",
    "    def __init__(self):\n",
    "        \"\"\"\n",
    "        self means the instance. \n",
    "        \"\"\"\n",
    "        \n",
    "        # Define instance attributes here\n",
    "        \n",
    "        print(self)\n",
    "    \n",
    "    @classmethod\n",
    "    def class_method(cls):\n",
    "        \"\"\"\n",
    "        cls is SampleObject, a `type` object\n",
    "        \"\"\"\n",
    "        print(cls)\n",
    "    \n",
    "    @staticmethod\n",
    "    def static_method():\n",
    "        \"\"\"\n",
    "        No access to object instance / class\n",
    "        \"\"\"\n",
    "        pass\n",
    "\n",
    "so = SampleObject()\n",
    "so.class_method()"
   ]
  },
  {
   "cell_type": "code",
   "execution_count": null,
   "metadata": {
    "collapsed": false
   },
   "outputs": [],
   "source": [
    "class AnotherObject(SampleObject):\n",
    "    pass\n",
    "\n",
    "ao = AnotherObject()\n",
    "ao.class_method()"
   ]
  },
  {
   "cell_type": "markdown",
   "metadata": {},
   "source": [
    "# Module & Packages\n",
    "\n",
    "In Python, most functionalities are organized in modules and packages. Modules are python files (.py), while packages folders with at least a `__init__.py` in it."
   ]
  },
  {
   "cell_type": "markdown",
   "metadata": {},
   "source": [
    "* chef/\n",
    "    * metadata.rb\n",
    "* doc/\n",
    "    * install.md\n",
    "    * netowrk.md\n",
    "* src/\n",
    "    * lib/\n",
    "        * network/\n",
    "            * \\_\\_init\\_\\_.py\n",
    "            * tcp.py\n",
    "        * \\_\\_init\\_\\_.py\n",
    "        * s3copy.py\n",
    "    * s3copy.py\n",
    "* tests/\n",
    "\n",
    "For a project with such folder structure, cwd = **src**, and we run \"python s3copy.py\", then `lib`, `lib.network` are packages visible to the python process, and `lib.netowrk.tcp` a valid module.\n",
    "\n",
    "When you `import lib.network.tcp`, Python will open \"lib/netowrk/tcp.py\", parse its content, and wrap it into a module object in current (s3copy.py) scope as `lib.netowrk.tcp`. Alternatively, you can call `import lib.network.tcp as tcp` to assign it to a different name (`tcp` instead of `lib.netowrk.tcp`).\n",
    "\n",
    "Similarly, you can import `lib.network`, and Python will read and parse from \"lib/netowrk/\\_\\_init\\_\\_.py\"."
   ]
  },
  {
   "cell_type": "markdown",
   "metadata": {},
   "source": [
    "## Search Path\n",
    "\n",
    "Check `sys.path` for your search path, and Python will search against them in order as if it's cwd. \n",
    "\n",
    "Python projects usually append root (src) directory to search path (only affects running that Python process) or CWD to it's src upon execution to minimize search path related issues."
   ]
  }
 ],
 "metadata": {
  "kernelspec": {
   "display_name": "Python 2",
   "language": "python",
   "name": "python2"
  },
  "language_info": {
   "codemirror_mode": {
    "name": "ipython",
    "version": 2
   },
   "file_extension": ".py",
   "mimetype": "text/x-python",
   "name": "python",
   "nbconvert_exporter": "python",
   "pygments_lexer": "ipython2",
   "version": "2.7.10"
  }
 },
 "nbformat": 4,
 "nbformat_minor": 0
}
