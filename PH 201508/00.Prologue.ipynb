{
 "cells": [
  {
   "cell_type": "markdown",
   "metadata": {},
   "source": [
    "# PyTalk @ PH 08/05-14"
   ]
  },
  {
   "cell_type": "markdown",
   "metadata": {},
   "source": [
    "## WIFI\n",
    "\n",
    "* SSID: In the Darkness (2.4G) / In the Darkne55 (5G)\n",
    "* PSK: 20150806\n",
    "* Go: http://192.168.192.2:8080/"
   ]
  },
  {
   "cell_type": "markdown",
   "metadata": {},
   "source": [
    "## Course Design\n",
    "\n",
    "We'll have 2 identitcal batches, 4 3-hour sessions each, hosted August 05-14 in Trend Micro PH Office. \n",
    "These sessions will be hosted in AM and PM respectively due to shift concerns.\n",
    "\n",
    "There will be 2 hours of lecture and 1 hour quiz + practice on each session."
   ]
  },
  {
   "cell_type": "markdown",
   "metadata": {},
   "source": [
    "## Pre-requisites\n",
    "\n",
    "Students should ...\n",
    "\n",
    "1. Have completed Python Course on Codecademy, or \n",
    "2. be comfortable with 1+ programming language, or\n",
    "3. Find time to complete first section before the second"
   ]
  },
  {
   "cell_type": "markdown",
   "metadata": {},
   "source": [
    "## Before the Lecture\n",
    "\n",
    "Student should install `Python`, `IPython`, `pip`, and `git` on his/her Laptop.\n",
    "\n",
    "* **Windows**: Please download and install [Anaconda](https://store.continuum.io/cshop/anaconda/) and [msysgit](https://msysgit.github.io/)\n",
    "* **Mac**: Download and install [Anaconda](https://store.continuum.io/cshop/anaconda/), and I think git is available from homebrew\n",
    "* **Linux**: \n",
    "    ```(as root)\n",
    "    apt-get install -y python-pip git  # or yum\n",
    "    pip install -U pip  # upgrades pip\n",
    "    pip install ipython\n",
    "    ```\n",
    "    "
   ]
  },
  {
   "cell_type": "markdown",
   "metadata": {},
   "source": [
    "## Author\n",
    "\n",
    "* [Cliff Chao-kuan Lu](mailto:cliff_lu@trend.com.tw), DCS AWSPS, Trend Micro Inc."
   ]
  },
  {
   "cell_type": "markdown",
   "metadata": {},
   "source": [
    "## Important\n",
    "\n",
    "* Got questions, just raise your hand. You can always revisit the material.\n",
    "* They only way to learn a programming language is to use it."
   ]
  },
  {
   "cell_type": "code",
   "execution_count": null,
   "metadata": {
    "collapsed": true
   },
   "outputs": [],
   "source": []
  }
 ],
 "metadata": {
  "kernelspec": {
   "display_name": "Python 3",
   "language": "python",
   "name": "python3"
  },
  "language_info": {
   "codemirror_mode": {
    "name": "ipython",
    "version": 3
   },
   "file_extension": ".py",
   "mimetype": "text/x-python",
   "name": "python",
   "nbconvert_exporter": "python",
   "pygments_lexer": "ipython3",
   "version": "3.4.1"
  }
 },
 "nbformat": 4,
 "nbformat_minor": 0
}
