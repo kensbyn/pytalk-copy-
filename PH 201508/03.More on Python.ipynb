{
 "cells": [
  {
   "cell_type": "markdown",
   "metadata": {},
   "source": [
    "# More on Python"
   ]
  },
  {
   "cell_type": "code",
   "execution_count": 1,
   "metadata": {
    "collapsed": true
   },
   "outputs": [],
   "source": [
    "%matplotlib inline\n",
    "\n",
    "from IPython.display import display"
   ]
  },
  {
   "cell_type": "markdown",
   "metadata": {},
   "source": [
    "## Search Path\n",
    "\n",
    "### sys.path\n",
    "\n",
    "When there's an `import`, Python tries to iterate over `sys.path` and look for the module specified within it. That's why it's common for programs add it's library path as the first entry in `sys.path`. \n",
    "\n",
    "Note: May mask built-in modules. It's a good practice to avoid name conflicts, and then you don't have to have the on the top of the list."
   ]
  },
  {
   "cell_type": "code",
   "execution_count": 2,
   "metadata": {
    "collapsed": false
   },
   "outputs": [],
   "source": [
    "import sys\n",
    "from os.path import dirname\n",
    "\n",
    "if False:\n",
    "    # Doesn't work in IPython Notebook :)\n",
    "    sys.path.insert(0, dirname(__file__))"
   ]
  },
  {
   "cell_type": "markdown",
   "metadata": {},
   "source": [
    "### Module Path\n",
    "\n",
    "Check `sys.path` for your module path. Module managers such as `easy_install`, `pip` and `virtualenv` recognize those paths and handle that for you. "
   ]
  },
  {
   "cell_type": "markdown",
   "metadata": {},
   "source": [
    "## Better Ask for Forgiveness than Permission\n",
    "\n",
    "In languages like C/PHP, it's very common to write codes like this:\n",
    "\n",
    "```\n",
    "// Pseudo code that resembles PHP\n",
    "\n",
    "$fd = fopen($somepath);\n",
    "if ($fd) {\n",
    "    // Do something\n",
    "\n",
    "    $csv_reader = csv.open($fd);\n",
    "    \n",
    "    if (is_resource($csv_reader)) {\n",
    "        // read from the csv reader\n",
    "    } else {\n",
    "        // file opened, but probably not a csv\n",
    "        // possibilities ? BOM for unicode files ? blah ...\n",
    "    }\n",
    "} else {\n",
    "    // fopen failed\n",
    "}\n",
    "```\n",
    "\n",
    "This procedural approach makes sense, but is way bogus and can consume your mind. That's why it's recommended to fire all the request in a `try ... catch` block, leave most function logic in a block, and handle those Exceptions in another.\n",
    "\n",
    "```\n",
    "# Pseudo code resembles Python\n",
    "\n",
    "try:\n",
    "    with open(somepath) as fp:\n",
    "        csv_reader = csv.DictReader(fp)\n",
    "        # read from it\n",
    "except IOError:\n",
    "    # Deal with IO exceptions\n",
    "except csv.SomeException:\n",
    "    # Bad format ?\n",
    "finally:\n",
    "    # Cleanup\n",
    "```"
   ]
  },
  {
   "cell_type": "markdown",
   "metadata": {},
   "source": [
    "## Exception Handling\n",
    "\n",
    "In Python, we use `try ... catch ... finally ...` blocks to catch and handle exceptions. When an Exception is raised running the `try` part, Python will stop execution of that block and start to look for matching `catch` blocks, and runs code in the first matching block. No matter whether Exception was raised or catched, finally block will always be run before the uncaught Exception was raised to the outside (to the `try` block) world."
   ]
  },
  {
   "cell_type": "code",
   "execution_count": 3,
   "metadata": {
    "collapsed": false
   },
   "outputs": [
    {
     "name": "stdout",
     "output_type": "stream",
     "text": [
      "Enter Try block\n",
      "Some IOError was raised\n",
      "Finally\n"
     ]
    }
   ],
   "source": [
    "try:\n",
    "    print(\"Enter Try block\")\n",
    "    raise IOError(\"Some IOError was raised\")\n",
    "    print(\"After Exception raised\")\n",
    "except (IOError, KeyError) as e:\n",
    "    print(e)\n",
    "except ValueError as e:\n",
    "    print(e)\n",
    "except Exception as e:\n",
    "    # Catch-all, PEP-8 doesn't like it. May be necessary evil.\n",
    "    print(\"Catch all %s\" % e)\n",
    "    pass\n",
    "finally:\n",
    "    print(\"Finally\")"
   ]
  },
  {
   "cell_type": "markdown",
   "metadata": {},
   "source": [
    "## Exception Objects\n",
    "\n",
    "Exceptions in Python are objects, and they all inherit from `Exception` (and object). The exact hierachy (from Python Manual):\n",
    "\n",
    "<pre>\n",
    "BaseException\n",
    " +-- SystemExit\n",
    " +-- KeyboardInterrupt\n",
    " +-- GeneratorExit\n",
    " +-- Exception\n",
    "      +-- StopIteration\n",
    "      +-- StandardError\n",
    "      |    +-- BufferError\n",
    "      |    +-- ArithmeticError\n",
    "      |    |    +-- FloatingPointError\n",
    "      |    |    +-- OverflowError\n",
    "      |    |    +-- ZeroDivisionError\n",
    "      |    +-- AssertionError\n",
    "      |    +-- AttributeError\n",
    "      |    +-- EnvironmentError\n",
    "      |    |    +-- IOError\n",
    "      |    |    +-- OSError\n",
    "      |    |         +-- WindowsError (Windows)\n",
    "      |    |         +-- VMSError (VMS)\n",
    "      |    +-- EOFError\n",
    "      |    +-- ImportError\n",
    "      |    +-- LookupError\n",
    "      |    |    +-- IndexError\n",
    "      |    |    +-- KeyError\n",
    "      |    +-- MemoryError\n",
    "      |    +-- NameError\n",
    "      |    |    +-- UnboundLocalError\n",
    "      |    +-- ReferenceError\n",
    "      |    +-- RuntimeError\n",
    "      |    |    +-- NotImplementedError\n",
    "      |    +-- SyntaxError\n",
    "      |    |    +-- IndentationError\n",
    "      |    |         +-- TabError\n",
    "      |    +-- SystemError\n",
    "      |    +-- TypeError\n",
    "      |    +-- ValueError\n",
    "      |         +-- UnicodeError\n",
    "      |              +-- UnicodeDecodeError\n",
    "      |              +-- UnicodeEncodeError\n",
    "      |              +-- UnicodeTranslateError\n",
    "      +-- Warning\n",
    "           +-- DeprecationWarning\n",
    "           +-- PendingDeprecationWarning\n",
    "           +-- RuntimeWarning\n",
    "           +-- SyntaxWarning\n",
    "           +-- UserWarning\n",
    "           +-- FutureWarning\n",
    "\t       +-- ImportWarning\n",
    "           +-- UnicodeWarning\n",
    "           +-- BytesWarning\n",
    " </pre>"
   ]
  },
  {
   "cell_type": "markdown",
   "metadata": {},
   "source": [
    "## More on Exception\n",
    "\n",
    "Just like the other control blocks, try-catch can also be nested."
   ]
  },
  {
   "cell_type": "code",
   "execution_count": 4,
   "metadata": {
    "collapsed": false
   },
   "outputs": [
    {
     "name": "stdout",
     "output_type": "stream",
     "text": [
      "Using stdin as alternative\n"
     ]
    }
   ],
   "source": [
    "import sys\n",
    "filename = \"no_such_file\"\n",
    "\n",
    "try:\n",
    "    try:\n",
    "        fp = open(\"no_such_file\")\n",
    "    except IOError:\n",
    "        print(\"Using stdin as alternative\")\n",
    "        fp = sys.stdin\n",
    "    \n",
    "    # blah ...\n",
    "except Exception:\n",
    "    # Catches other exceptions from here\n",
    "    pass"
   ]
  },
  {
   "cell_type": "markdown",
   "metadata": {},
   "source": [
    "## I/O Design (in, out, err)\n",
    "\n",
    "Codes don't run alone. They rely on I/O pipe options to interact with the outer world. \n",
    "\n",
    "### Common Channels\n",
    "\n",
    "Pipe\n",
    "File\n",
    "TTY (stdin, stdout, stderr)\n",
    "Network"
   ]
  },
  {
   "cell_type": "markdown",
   "metadata": {},
   "source": [
    "## Decorators\n",
    "\n",
    "Decorators are the logical identity that with a @ before its name, occupy a line before your function. Python recognizes this syntax and modify your functions transparently, and that's why it's called **Decorators**.\n",
    "\n",
    "```\n",
    "@statement\n",
    "def func():\n",
    "    pass\n",
    "```\n",
    "\n",
    "Python will first evaluate `statement` (as a function), got result as `result`, and then assign `result(func)` to the symbol name `func`. "
   ]
  },
  {
   "cell_type": "code",
   "execution_count": 5,
   "metadata": {
    "collapsed": true
   },
   "outputs": [],
   "source": [
    "def deco(func):\n",
    "    print(\"deco called\")\n",
    "    print(\"__doc__ from func: %s\" % func.__doc__)\n",
    "    def wrapped(*args, **kwargs):\n",
    "        print(\"wrapped called\")\n",
    "        result = func(*args, **kwargs)\n",
    "        print(\"wrapped ends\")\n",
    "        \n",
    "        return result\n",
    "    \n",
    "    return wrapped"
   ]
  },
  {
   "cell_type": "code",
   "execution_count": 6,
   "metadata": {
    "collapsed": false
   },
   "outputs": [
    {
     "name": "stdout",
     "output_type": "stream",
     "text": [
      "func called, somevar = `hello world`\n"
     ]
    }
   ],
   "source": [
    "def func(somevar):\n",
    "    \"\"\"\n",
    "    Docstring to func\n",
    "    \"\"\"\n",
    "    print(\"func called, somevar = `%s`\" % somevar)\n",
    "\n",
    "func('hello world')"
   ]
  },
  {
   "cell_type": "code",
   "execution_count": 7,
   "metadata": {
    "collapsed": false
   },
   "outputs": [
    {
     "name": "stdout",
     "output_type": "stream",
     "text": [
      "deco called\n",
      "__doc__ from func: \n",
      "    Docstring to func\n",
      "    \n",
      "wrapped called\n",
      "func called, somevar = `hello world`\n",
      "wrapped ends\n"
     ]
    }
   ],
   "source": [
    "@deco\n",
    "def func(somevar):\n",
    "    \"\"\"\n",
    "    Docstring to func\n",
    "    \"\"\"\n",
    "    print(\"func called, somevar = `%s`\" % somevar)\n",
    "\n",
    "func('hello world')"
   ]
  },
  {
   "cell_type": "code",
   "execution_count": 8,
   "metadata": {
    "collapsed": false
   },
   "outputs": [
    {
     "name": "stdout",
     "output_type": "stream",
     "text": [
      "None\n"
     ]
    }
   ],
   "source": [
    "print(func.__doc__)"
   ]
  },
  {
   "cell_type": "markdown",
   "metadata": {},
   "source": [
    "Oops, why is my \\_\\_doc\\_\\_ gone ??"
   ]
  },
  {
   "cell_type": "code",
   "execution_count": 9,
   "metadata": {
    "collapsed": false
   },
   "outputs": [
    {
     "name": "stdout",
     "output_type": "stream",
     "text": [
      "deco called\n",
      "__doc__ from func: \n",
      "    Docstring to func\n",
      "    \n",
      "\n",
      "    Docstring to func\n",
      "    \n"
     ]
    }
   ],
   "source": [
    "import functools\n",
    "\n",
    "def deco(func):\n",
    "    print(\"deco called\")\n",
    "    print(\"__doc__ from func: %s\" % func.__doc__)\n",
    "    \n",
    "    @functools.wraps(func)\n",
    "    def wrapped(*args, **kwargs):\n",
    "        print(\"wrapped called\")\n",
    "        result = func(*args, **kwargs)\n",
    "        print(\"wrapped ends\")\n",
    "        \n",
    "        return result\n",
    "    \n",
    "    return wrapped\n",
    "\n",
    "@deco\n",
    "def func(somevar):\n",
    "    \"\"\"\n",
    "    Docstring to func\n",
    "    \"\"\"\n",
    "    print(\"func called, somevar = `%s`\" % somevar)\n",
    "\n",
    "print(func.__doc__)"
   ]
  },
  {
   "cell_type": "markdown",
   "metadata": {},
   "source": [
    "### Decorators with Arguments\n",
    "\n",
    "If statement is a function call, Python will first evaluate it, and then invoke it's return value with func as its argument."
   ]
  },
  {
   "cell_type": "code",
   "execution_count": 10,
   "metadata": {
    "collapsed": true
   },
   "outputs": [],
   "source": [
    "def deco_args(deco_arg):\n",
    "    print(\"deco called, deco_arg = %s\" % deco_arg)\n",
    "    \n",
    "    def wrapper(func):\n",
    "        print(\"wrapper called, func = %s\" % func)\n",
    "        \n",
    "        @functools.wraps(func)\n",
    "        def wrapped(*args, **kwargs):\n",
    "            return func(*args, **kwargs)\n",
    "        return wrapped\n",
    "\n",
    "    return wrapper"
   ]
  },
  {
   "cell_type": "code",
   "execution_count": 11,
   "metadata": {
    "collapsed": false
   },
   "outputs": [
    {
     "name": "stdout",
     "output_type": "stream",
     "text": [
      "deco called, deco_arg = foo\n",
      "wrapper called, func = <function func at 0x00000000081A6268>\n",
      "func called, somevar = `hello world`\n"
     ]
    }
   ],
   "source": [
    "@deco_args(\"foo\")\n",
    "def func(somevar):\n",
    "    \"\"\"\n",
    "    Docstring to func\n",
    "    \"\"\"\n",
    "    print(\"func called, somevar = `%s`\" % somevar)\n",
    "\n",
    "func('hello world')"
   ]
  },
  {
   "cell_type": "markdown",
   "metadata": {},
   "source": [
    "Note: decorators are also available as classes. Not covered in this lecture."
   ]
  },
  {
   "cell_type": "markdown",
   "metadata": {},
   "source": [
    "## Context\n",
    "\n",
    "In modern laguages that has Garbage Collection (gc), freeing variables is no longer a pain (in most cases). However, resources remained expensive (descriptor and memory as buffer), that's why we wrap them in `context`."
   ]
  },
  {
   "cell_type": "code",
   "execution_count": 12,
   "metadata": {
    "collapsed": true
   },
   "outputs": [],
   "source": [
    "# Sample usage\n",
    "if False:\n",
    "    with open(\"somefile\") as fp:\n",
    "        pass"
   ]
  },
  {
   "cell_type": "markdown",
   "metadata": {},
   "source": [
    "Python will close `fp` automatically when leaving the `with` block, whether it's a success or exception."
   ]
  },
  {
   "cell_type": "code",
   "execution_count": 13,
   "metadata": {
    "collapsed": true
   },
   "outputs": [],
   "source": [
    "class ContextExample(object):\n",
    "    def __init__(self, sample_value):\n",
    "        self.__sample_value = sample_value\n",
    "        print(\"Init: (%s)\" % sample_value)\n",
    "    \n",
    "    def __enter__(self):\n",
    "        print(\"Enter\")\n",
    "        return self\n",
    "\n",
    "    def __exit__(self, exc_type, exc_value, traceback):\n",
    "        print(\"Exit: (exc_type: %s, exc_value: %s, traceback: %s)\" % (exc_type, exc_value, traceback))"
   ]
  },
  {
   "cell_type": "code",
   "execution_count": 14,
   "metadata": {
    "collapsed": false
   },
   "outputs": [
    {
     "name": "stdout",
     "output_type": "stream",
     "text": [
      "Init: (some value)\n",
      "Enter\n",
      "Exit: (exc_type: None, exc_value: None, traceback: None)\n"
     ]
    }
   ],
   "source": [
    "with ContextExample('some value'):\n",
    "    pass"
   ]
  },
  {
   "cell_type": "code",
   "execution_count": 15,
   "metadata": {
    "collapsed": false
   },
   "outputs": [
    {
     "name": "stdout",
     "output_type": "stream",
     "text": [
      "Before Everything\n",
      "Init: (some value)\n",
      "Enter\n",
      "Start of With block\n",
      "Exit: (exc_type: <class 'Exception'>, exc_value: Foo, traceback: <traceback object at 0x0000000006442148>)\n",
      "Except block\n"
     ]
    }
   ],
   "source": [
    "try:\n",
    "    print(\"Before Everything\")\n",
    "    with ContextExample('some value'):\n",
    "        print(\"Start of With block\")\n",
    "        raise Exception(\"Foo\")\n",
    "        print(\"End of With block\")\n",
    "except:\n",
    "    print(\"Except block\")\n",
    "    # Catch all so it don't break IPython"
   ]
  },
  {
   "cell_type": "markdown",
   "metadata": {},
   "source": [
    "# Pain Points\n",
    "\n",
    "Python is in no way perfect. There are some common complaints around it."
   ]
  },
  {
   "cell_type": "markdown",
   "metadata": {},
   "source": [
    "## Performance - I/O\n",
    "\n",
    "* Move to async I/O design\n",
    "* GIL\n",
    "\n",
    "Python natively promotes a procedural design, that runs in a single process. This makes initial development and debugging extremely simple, but also painful when you need a performance boost. \n",
    "\n",
    "Usually, refactoring the project in an I/O-loop based framework can help, in case the task is just I/O. Multi-threading can be the next intuitive approach, but it don't work pretty well in Python, partly because of the infamous GIL, Global Intepreter Lock. That means only a thread in a process can enter `run` state at a time. \n",
    "\n",
    "Some tried to remove GIL and make Python multi-thread friendly by introducing more fine-grained locks. The result ? Disaster. It runs slower than the vanilla Python.\n"
   ]
  },
  {
   "cell_type": "markdown",
   "metadata": {},
   "source": [
    "## Performance - CPU\n",
    "\n",
    "* Multiprocessing\n",
    "* Modules implemented in C\n",
    "* Cython\n",
    "\n",
    "As an interpretative laugnage with weak types, Python is slow. Every variable has to be converted to `PyObject` behind the scene, and converted to other variable types (in Python) when passed to functions or operators. There are a few approaches to address this issue."
   ]
  },
  {
   "cell_type": "markdown",
   "metadata": {},
   "source": [
    "### Multi Processing\n",
    "\n",
    "Dispatch jobs to processes instead of threads, so they can all run in the same time (on different cores) regardsless of GIL. However, centralized locks (normally implemented on the master process) may be required to synchronize processes.\n",
    "\n",
    "Another issue is that it doesn't solve the data conversion issue, and each process will be inflicted by the GIL issue. Having lots of processes also has its overhead."
   ]
  },
  {
   "cell_type": "markdown",
   "metadata": {},
   "source": [
    "### Modules in C\n",
    "\n",
    "C function calls (from Python, as module members) can get rid of GIL, and they usually take more efficient approaches for computation. That's why we would offload heavy computations to C-based modules (compared to native ones written in Python). The most famous example would be the `scipy`, `numpy`, and `matplotlib` triology."
   ]
  },
  {
   "cell_type": "markdown",
   "metadata": {},
   "source": [
    "# NumPy, SciPy, and MatplotLib\n",
    "\n",
    "`NumPy` is a module written C that focus on mathematical computations. It defines array and matrix to hold elements of the same (native, C) type, and implements algorithm to compute against them efficiently. \n",
    "\n",
    "`SciPy` uses `NumPy` as its basis, and build higher-level mathematical as well as scientific formulae around it. \n",
    "\n",
    "`matplotlib` is less related to the others in the trilogy. It implements plotting interface very similar to that in matlab."
   ]
  },
  {
   "cell_type": "code",
   "execution_count": 16,
   "metadata": {
    "collapsed": false
   },
   "outputs": [
    {
     "data": {
      "text/plain": [
       "[<matplotlib.lines.Line2D at 0x7b8c518>]"
      ]
     },
     "metadata": {},
     "output_type": "display_data"
    },
    {
     "data": {
      "image/png": "[encoded data removed]",
      "text/plain": [
       "<matplotlib.figure.Figure at 0x64db1d0>"
      ]
     },
     "metadata": {},
     "output_type": "display_data"
    }
   ],
   "source": [
    "import matplotlib\n",
    "import math\n",
    "from matplotlib.pyplot import plot\n",
    "\n",
    "x = [ i / 100.0 for i in range(0, int(4 *math.pi * 100)) ]\n",
    "y = [ math.sin(i) for i in x ]\n",
    "\n",
    "display(plot(x, y))\n"
   ]
  },
  {
   "cell_type": "markdown",
   "metadata": {},
   "source": [
    "# Cython\n",
    "\n",
    "Cython hooks to Python API and source code used to compile C-based Python modules, and offers another set of API that we can import from Cython modules as if they were Python modules. As long as pre-requisites were met, syntax checks, compilation, and linking are taken care of behind the scene.\n",
    "\n",
    "Cython is beyond the scope of our Python class, so I'll just give a high-level view on how we can improve (Python) code performce with it."
   ]
  },
  {
   "cell_type": "markdown",
   "metadata": {},
   "source": [
    "## Compilation (Do Nothing)\n",
    "\n",
    "Python is a interpretative language, and it's difficult to apply static optimizations runtime. Cython will interpret your code (module) in C and compile it, so these optimizations would be immediately available. And the tradeoff is a few seconds of delay compiling from source if the compiled binary is out of date."
   ]
  },
  {
   "cell_type": "markdown",
   "metadata": {},
   "source": [
    "## Type Hint\n",
    "\n",
    "The first approach converting a Python project to Cython would be providing type hints. Cython would be able to convert them to native (C) variables rather than `PyObject`, which uses less memory and is more performant.\n",
    "\n",
    "Codes should run ~10x faster compared to the original .py by achieving this step."
   ]
  },
  {
   "cell_type": "markdown",
   "metadata": {},
   "source": [
    "## Rewrite in C\n",
    "\n",
    "For tougher scenario (usually ML with Big Data), we would profile and rewrite core components in C to boost its performance. Common use cases are:\n",
    "\n",
    "* Specific data structure and algorithm\n",
    "* Prevent frequent boxing / unboxing"
   ]
  }
 ],
 "metadata": {
  "kernelspec": {
   "display_name": "Python 3",
   "language": "python",
   "name": "python3"
  },
  "language_info": {
   "codemirror_mode": {
    "name": "ipython",
    "version": 3
   },
   "file_extension": ".py",
   "mimetype": "text/x-python",
   "name": "python",
   "nbconvert_exporter": "python",
   "pygments_lexer": "ipython3",
   "version": "3.4.3"
  }
 },
 "nbformat": 4,
 "nbformat_minor": 0
}
