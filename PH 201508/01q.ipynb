{
 "cells": [
  {
   "cell_type": "markdown",
   "metadata": {},
   "source": [
    "# Quizzes\n",
    "\n",
    "Try to answer following questions without `running` them."
   ]
  },
  {
   "cell_type": "markdown",
   "metadata": {},
   "source": [
    "# Assignment: Build the Environment\n",
    "\n",
    "In this assignment, you will checkout the material and run them in your own IPython stack."
   ]
  },
  {
   "cell_type": "markdown",
   "metadata": {},
   "source": [
    "## Step 1: Checkout the Repo\n",
    "\n",
    "The project is hosted at https://git.dcs.trendnet.org/clifflu/pytalk .\n",
    "To check out this project, go to your projects folder (eg. ~/projects/) and run `git checkout https://git.dcs.trendnet.org/clifflu/pytalk`."
   ]
  },
  {
   "cell_type": "markdown",
   "metadata": {},
   "source": [
    "## Step 2: Install the Requirements\n",
    "\n",
    "Run `pip install -rU requirements.txt` in the checkout path, eg., ~/projects/pytalk"
   ]
  },
  {
   "cell_type": "markdown",
   "metadata": {},
   "source": [
    "## Step 3: Start IPython Notebook\n",
    "\n",
    "Run `ipython notebook` in checkout path. A browser window should pop unless you're accessing a remote machine. "
   ]
  }
 ],
 "metadata": {
  "kernelspec": {
   "display_name": "Python 3",
   "language": "python",
   "name": "python3"
  },
  "language_info": {
   "codemirror_mode": {
    "name": "ipython",
    "version": 3
   },
   "file_extension": ".py",
   "mimetype": "text/x-python",
   "name": "python",
   "nbconvert_exporter": "python",
   "pygments_lexer": "ipython3",
   "version": "3.4.3"
  }
 },
 "nbformat": 4,
 "nbformat_minor": 0
}
