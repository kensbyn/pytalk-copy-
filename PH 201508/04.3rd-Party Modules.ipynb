{
 "cells": [
  {
   "cell_type": "markdown",
   "metadata": {},
   "source": [
    "# 3rd Party Modules\n",
    "\n",
    "In this part, we'll discuss some of handy Python 3rd-party modules."
   ]
  },
  {
   "cell_type": "markdown",
   "metadata": {},
   "source": [
    "# Installing Modules\n",
    "\n",
    "Require external libraries, library header files, python source, and a compatible C compiler for dynamic library modules. \n",
    "\n",
    "## Tarball\n",
    "\n",
    "1. Download tarball\n",
    "2. Run `python setup.py install`\n",
    "\n",
    "## easy_install\n",
    "\n",
    "1. Run `easy_install [module]`\n",
    "\n",
    "## pip\n",
    "\n",
    "1. Run `pip install [module]`"
   ]
  },
  {
   "cell_type": "markdown",
   "metadata": {},
   "source": [
    "# virtualenv"
   ]
  },
  {
   "cell_type": "markdown",
   "metadata": {},
   "source": [
    "## UI\n",
    "\n",
    "### docopt\n",
    "\n",
    "### termcolor\n",
    "\n",
    "##\n",
    "\n",
    "## boto\n",
    "\n",
    "## celery"
   ]
  },
  {
   "cell_type": "code",
   "execution_count": null,
   "metadata": {
    "collapsed": true
   },
   "outputs": [],
   "source": []
  }
 ],
 "metadata": {
  "kernelspec": {
   "display_name": "Python 2",
   "language": "python",
   "name": "python2"
  },
  "language_info": {
   "codemirror_mode": {
    "name": "ipython",
    "version": 2
   },
   "file_extension": ".py",
   "mimetype": "text/x-python",
   "name": "python",
   "nbconvert_exporter": "python",
   "pygments_lexer": "ipython2",
   "version": "2.7.9"
  }
 },
 "nbformat": 4,
 "nbformat_minor": 0
}
